{
 "cells": [
  {
   "cell_type": "markdown",
   "metadata": {},
   "source": [
    "Considering the weak interactions limit of the Hubbard model \n",
    "\n",
    "$$\n",
    "    \\hat{H}_0 = -J \\sum_{j}^{L}\\sum_{\\sigma=\\{\\uparrow,\\downarrow\\}} \\left(\\hat{c}_{j+1,\\sigma}^{\\dagger} \\hat{c}_{j,\\sigma} + \\text{H.c} \\right)\n",
    "$$\n",
    "\n",
    "one can show that this correctly represents the tight-binding model."
   ]
  },
  {
   "cell_type": "markdown",
   "metadata": {},
   "source": [
    "Be the creation operators given by \n",
    "\n",
    "$$\n",
    "    \\hat{c}_{k,\\sigma}^{\\dagger} = \\frac{1}{\\sqrt{L}} \\sum_{j} e^{i \\mathbf{q}_k \\cdot \\mathbf{r}_j} \\hat{c}_{j,\\sigma}^{\\dagger}\n",
    "$$"
   ]
  },
  {
   "cell_type": "markdown",
   "metadata": {},
   "source": [
    "simplifying the terms $\\mathbf{q}_k$ and $\\mathbf{r}_j$ calling them $k$ and $j$ respectively."
   ]
  },
  {
   "cell_type": "markdown",
   "metadata": {},
   "source": [
    "$$ \n",
    "    \\hat{c}_{k,\\sigma}^{\\dagger} = \\frac{1}{\\sqrt{L}} \\sum_{j} e^{i jk}\\hat{c}_{j, \\sigma}^{\\dagger}\n",
    "$$"
   ]
  },
  {
   "cell_type": "markdown",
   "metadata": {},
   "source": [
    "calling $j' = j+1$"
   ]
  },
  {
   "cell_type": "markdown",
   "metadata": {},
   "source": [
    "\\begin{align*}\n",
    "    \\hat{H}_0 &= -J \\sum_{\\sigma} \\bigg[\\frac{1}{L}\\left(\\sum_{k} e^{ijk}\\hat{c}_{k,\\sigma}^{\\dagger}\\right) \\left(\\sum_{k} e^{-ij'k} \\hat{c}_{k,\\sigma}\\right) + \\frac{1}{L}\\left(\\sum_{k} e^{-ij'k}\\hat{c}_{k,\\sigma}^{\\dagger}\\right) \\left(\\sum_{k} e^{ijk} \\hat{c}_{k,\\sigma}\\right) \\bigg] \\\\ \n",
    "    &= -\\frac{J}{L} \\sum_{\\sigma}\\sum_{j,j'}\\bigg[ \\sum_{k} e^{ik(j-j')} \\hat{c}_{k,\\sigma}^{\\dagger}\\hat{c}_{k,\\sigma} + \\sum_{k} e^{-ik(j-j')} \\hat{c}^{\\dagger}_{k,\\sigma} \\bigg] \\\\ \n",
    "    &= - \\frac{J}{L} \\sum_{k,\\sigma} \\sum_{j, j'} \\left( e^{ik \\ell} + e^{-ik \\ell} \\right) \\hat{c}_{k,\\sigma}^{\\dagger} \\hat{c}_{k,\\sigma}\n",
    "\\end{align*}"
   ]
  },
  {
   "cell_type": "markdown",
   "metadata": {},
   "source": [
    "$j'= j+1$, so $\\ell = j - j' = -1$"
   ]
  },
  {
   "cell_type": "markdown",
   "metadata": {},
   "source": [
    "$$\n",
    "    \\hat{H}_0 = - \\frac{J}{L} \\sum_{k, \\sigma} \\sum_{j,j'} 2 \\cos(k) \\hat{c}^{\\dagger}_{k,\\sigma} \\hat{c}_{k,\\sigma}\n",
    "$$"
   ]
  },
  {
   "cell_type": "markdown",
   "metadata": {},
   "source": [
    "opening the summations in $j$, $j'$ we can get rid of $L$"
   ]
  },
  {
   "cell_type": "markdown",
   "metadata": {},
   "source": [
    "$$ \n",
    "    \\hat{H}_0 = - 2J \\sum_{k,\\sigma} \\hat{c}_{k,\\sigma}^{\\dagger}\\hat{c}_{k,\\sigma} \\cos(k)\n",
    "$$"
   ]
  },
  {
   "cell_type": "code",
   "execution_count": 1,
   "metadata": {},
   "outputs": [],
   "source": [
    "from __future__ import print_function, division\n",
    "import sys,os\n",
    "    \n",
    "import numpy as np # type: ignore\n",
    "\n",
    "from quspin.operators import hamiltonian, exp_op, quantum_operator # type: ignore \n",
    "from quspin.basis import spinless_fermion_basis_1d # type: ignore\n",
    "from quspin.tools.measurements import obs_vs_time # type: ignore\n",
    "\n",
    "import matplotlib.pyplot as plt # type: ignore\n",
    "\n",
    "font = {\n",
    "        'weight' : 'bold',\n",
    "        'size'   : 16}\n",
    "plt.rc('text', usetex=True)\n",
    "plt.rc('text.latex', preamble=r'\\usepackage{amsmath}')\n",
    "plt.rc('font', **font) \n",
    "\n",
    "# the no-checks is just to avoid the printing of the message about Hermicity etc\n",
    "no_checks = dict(check_pcon=False,check_symm=False,check_herm=False)"
   ]
  },
  {
   "cell_type": "code",
   "execution_count": 2,
   "metadata": {},
   "outputs": [
    {
     "name": "stdout",
     "output_type": "stream",
     "text": [
      "Size of 1D H-space: 20 \n",
      "\n",
      "Hermiticity check passed!\n",
      "Particle conservation check passed!\n",
      "E_0 = [-4.]\n"
     ]
    }
   ],
   "source": [
    "L = 6\n",
    "J = 1.0\n",
    "\n",
    "basis = spinless_fermion_basis_1d(L, Nf = L // 2, a = 2) # ,Nf=(N_up,N_down))\n",
    "dim=basis.Ns\n",
    "\n",
    "print(\"Size of 1D H-space: {Ns:d} \\n\".format(Ns=dim))\n",
    "\n",
    "hopping_right = [[-J, i, (i+1) % L] for i in range(L)]\n",
    "hopping_left  = [[+J, i, (i+1) % L] for i in range(L)]\n",
    "\n",
    "H_0 = [\n",
    "        ['+-', hopping_left],  \n",
    "        ['-+', hopping_right],\n",
    "]\n",
    "H_t = hamiltonian(H_0,[],basis=basis,dtype=np.float64, check_symm=False)\n",
    "# Diagonalizes the entire hamiltonian at t = 0\n",
    "E_0, _ = H_t.eigsh(time = 0 , k=1, which='SA')\n",
    "print(f\"E_0 = {E_0}\")"
   ]
  }
 ],
 "metadata": {
  "kernelspec": {
   "display_name": "venv",
   "language": "python",
   "name": "python3"
  },
  "language_info": {
   "codemirror_mode": {
    "name": "ipython",
    "version": 3
   },
   "file_extension": ".py",
   "mimetype": "text/x-python",
   "name": "python",
   "nbconvert_exporter": "python",
   "pygments_lexer": "ipython3",
   "version": "3.12.9"
  }
 },
 "nbformat": 4,
 "nbformat_minor": 2
}
