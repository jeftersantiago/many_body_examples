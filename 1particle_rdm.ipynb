{
 "cells": [
  {
   "cell_type": "markdown",
   "metadata": {},
   "source": [
    "The $n$ particle reduced density matrix for $1 \\leq n \\leq N - 1$ where $N$ is the total number of fermions we \n",
    "$$\\hat{\\rho}_{n} = \\text{Tr}_{(n+1,n+2, ..., N)} \\ket{\\Psi}\\bra{\\Psi} $$"
   ]
  },
  {
   "cell_type": "markdown",
   "metadata": {},
   "source": [
    "A clever way to compute the $\\hat{\\rho}_{1}$ matrix elements is \n",
    "\n",
    "$$\n",
    "    [\\hat{\\rho}_{1}]_{(i\\sigma_i), (j\\sigma_j)} = {N \\choose 1}^{-1} \\braket{\\Psi | a_{i,\\sigma_i}^{\\dagger} a_{j,\\sigma_j}| \\Psi}\n",
    "$$"
   ]
  },
  {
   "cell_type": "markdown",
   "metadata": {},
   "source": [
    "Considering a simple case to see if i can correctly compute the 1-RDM. \n",
    "Let $L = 2, N = 2$ be the number of sites and particles, respectively. \n",
    "The possible states for a particle are then $\\{\\ket{1,\\uparrow}, \\ket{1,\\downarrow}, \\ket{2,\\uparrow}, \\ket{2,\\downarrow}\\}$"
   ]
  },
  {
   "cell_type": "markdown",
   "metadata": {},
   "source": [
    "The $\\hat{\\rho}_1$ matrix is given by these correlators"
   ]
  },
  {
   "cell_type": "markdown",
   "metadata": {},
   "source": [
    "$$\n",
    "\n",
    "\\hat{\\rho}_{1} = \\begin{pmatrix}\n",
    "                \\braket{a_{1,\\uparrow}^{\\dagger} a_{1,\\uparrow}} & \\braket{a_{1,\\uparrow}^{\\dagger}a_{1,\\downarrow}} &                 \\braket{a_{1,\\uparrow}^{\\dagger} a_{2,\\uparrow}} & \\braket{a_{1,\\uparrow}^{\\dagger}a_{2,\\downarrow}} \\\\\n",
    "                \\braket{a_{1,\\downarrow}^{\\dagger} a_{1,\\uparrow}} & \\braket{a_{1,\\downarrow}^{\\dagger}a_{1,\\downarrow}} &                 \\braket{a_{1,\\downarrow}^{\\dagger} a_{2,\\uparrow}} & \\braket{a_{1,\\downarrow}^{\\dagger}a_{2,\\downarrow}} \\\\\n",
    "                \\braket{a_{2,\\uparrow}^{\\dagger} a_{1,\\uparrow}} & \\braket{a_{1,\\uparrow}^{\\dagger}a_{1,\\downarrow}} &                 \\braket{a_{2,\\uparrow}^{\\dagger} a_{2,\\uparrow}} & \\braket{a_{2,\\uparrow}^{\\dagger}a_{2,\\downarrow}} \\\\\n",
    "                \\braket{a_{2,\\downarrow}^{\\dagger} a_{1,\\uparrow}} & \\braket{a_{2,\\downarrow}^{\\dagger}a_{1,\\downarrow}} &                 \\braket{a_{2,\\downarrow}^{\\dagger} a_{2,\\uparrow}} & \\braket{a_{2,\\downarrow}^{\\dagger}a_{2,\\downarrow}} \\\\\n",
    "                \\end{pmatrix}\n",
    "$$"
   ]
  },
  {
   "cell_type": "markdown",
   "metadata": {},
   "source": [
    " $(a_{i,\\sigma_i}a_{j,\\sigma_j})^{\\dagger} = a_{j\\sigma_j}^{\\dagger} a_{i,\\sigma_i}$"
   ]
  }
 ],
 "metadata": {
  "kernelspec": {
   "display_name": "venv",
   "language": "python",
   "name": "python3"
  },
  "language_info": {
   "codemirror_mode": {
    "name": "ipython",
    "version": 3
   },
   "file_extension": ".py",
   "mimetype": "text/x-python",
   "name": "python",
   "nbconvert_exporter": "python",
   "pygments_lexer": "ipython3",
   "version": "3.12.9"
  }
 },
 "nbformat": 4,
 "nbformat_minor": 2
}
